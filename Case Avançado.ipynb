{
 "cells": [
  {
   "cell_type": "markdown",
   "metadata": {},
   "source": [
    "# **Case Avançado**"
   ]
  },
  {
   "cell_type": "markdown",
   "metadata": {},
   "source": [
    "Judy Hopps, uma coelha da zona rural, vai atrás de seu sonho tornar-se oficial no departamento de polícia da cidade de Zootopia. Juntamente de seu então parceiro Nick, eles vão até o DMV conseguir mais informações para resolverem um caso - e falam com Flecha, um funcionário de lá. Porém, após eles saírem, um amigo de Flecha o questiona se conhece alguém que possa ajudá-lo a analisar informações demográficas de países, com o intuito de implantar novas políticas públicas para Zootopia no futuro. Portanto, o ajudaremos."
   ]
  },
  {
   "cell_type": "code",
   "execution_count": null,
   "metadata": {},
   "outputs": [],
   "source": [
    "# Instalando as bibliotecas que vamos usar\n",
    "%pip install pandas seaborn matplotlib numpy"
   ]
  },
  {
   "cell_type": "code",
   "execution_count": null,
   "metadata": {},
   "outputs": [],
   "source": [
    "# Importando as bibliotecas que serão utilizadas. Contudo, caso se sinta necessidade, importe outras bibliotecas que desejar.\n",
    "\n",
    "import pandas as pd\n",
    "import numpy as np\n",
    "import seaborn as sns\n",
    "import matplotlib.pyplot as plt"
   ]
  },
  {
   "cell_type": "markdown",
   "metadata": {},
   "source": [
    "O amigo de Flecha possui um arquivo .csv que há informações que podem ser úteis para nós. Aqui, vai uma breve informação de cada coluna do DataFrame:\n",
    "\n",
    "**Descrição das Colunas do DataFrame:**\n",
    "- **Country**: Nome do país ao qual os dados pertencem.\n",
    "- **Quality of Life Index**: A qualidade de vida em um país como um todo, abarcando fatores como poder de compra, segurança, poluição e custo de vida.\n",
    "- **Purchasing Power Index**: Poder de compra médio da população.\n",
    "- **Safety Index**: Nível de segurança pública em um país,\n",
    "- **Cost of Living Index**: Custo médio de vida em um país, levando em conta preços de bens e serviços essenciais.\n",
    "- **Pollution Index**: Nível de poluição ambiental.\n",
    "- **Climate Index**:  Índice que avalia a qualidade do clima em um país com base em fatores como temperatura, umidade e conforto térmico.\n",
    "- **Health Care Index**: Nível de qualidade do acesso a saúde."
   ]
  },
  {
   "cell_type": "markdown",
   "metadata": {},
   "source": [
    "## **Questão 1**"
   ]
  },
  {
   "cell_type": "markdown",
   "metadata": {},
   "source": [
    "### **a)** Leia o arquivo \"quality_of_life_indices_by_country_2.csv\", e o transforme em um data frame do Pandas."
   ]
  },
  {
   "cell_type": "code",
   "execution_count": null,
   "metadata": {},
   "outputs": [],
   "source": []
  },
  {
   "cell_type": "markdown",
   "metadata": {},
   "source": [
    "### **b)** Podem haver linhas com valores Na. Primeiramente, cheque se há tais linhas, caso elas existam, as remova."
   ]
  },
  {
   "cell_type": "code",
   "execution_count": null,
   "metadata": {},
   "outputs": [],
   "source": []
  },
  {
   "cell_type": "markdown",
   "metadata": {},
   "source": [
    "### **c)** Apesar de haverem outras, vamos utilizar apenas as colunas \"Country\", \"Quality of Life Index\" e \"Purchasing Power Index\". Portanto, exclua as demais."
   ]
  },
  {
   "cell_type": "code",
   "execution_count": null,
   "metadata": {},
   "outputs": [],
   "source": []
  },
  {
   "cell_type": "markdown",
   "metadata": {},
   "source": [
    "### **d)** Feitas as etapas anteriores, agora encontre e apresente os 5 países com maior qualidade de vida, com base na coluna 'Quality of Life Index'."
   ]
  },
  {
   "cell_type": "code",
   "execution_count": null,
   "metadata": {},
   "outputs": [],
   "source": []
  },
  {
   "cell_type": "markdown",
   "metadata": {},
   "source": [
    "### **e)** Agora faça o mesmo processo para encontrar e apresentar os 5 países com maior poder de compra, com base na coluna \"Purchasing Power Index\"."
   ]
  },
  {
   "cell_type": "code",
   "execution_count": null,
   "metadata": {},
   "outputs": [],
   "source": []
  },
  {
   "cell_type": "markdown",
   "metadata": {},
   "source": [
    "### **f)** É de grande importância entender o quanto uma variável pode ter haver com a outra, na hora de implementar novas políticas e diretrizes de qualquer assunto. Um bom pontapé nesse caso é entender a correlação de certas variáveis. Portanto, apresente o valor grau de correlação, lembrando que o mesmo pode ir de -1 a 1."
   ]
  },
  {
   "cell_type": "code",
   "execution_count": null,
   "metadata": {},
   "outputs": [],
   "source": []
  },
  {
   "cell_type": "markdown",
   "metadata": {},
   "source": [
    "### **g)** Produza um gráfico de dispersão que contemple os dados das colunas \"Purchasing Power Index\" e \"Quality of Life Index\", juntamente de uma reta de regressão."
   ]
  },
  {
   "cell_type": "code",
   "execution_count": null,
   "metadata": {},
   "outputs": [],
   "source": []
  },
  {
   "cell_type": "markdown",
   "metadata": {},
   "source": [
    "### **h)** Explore a correlação entre \"Health Care Index\" e \"Cost of Living Index\" utilizando métodos estatísticos e visuais, e explique as técnicas estatísticas utilizadas"
   ]
  },
  {
   "cell_type": "code",
   "execution_count": null,
   "metadata": {},
   "outputs": [],
   "source": []
  },
  {
   "cell_type": "markdown",
   "metadata": {},
   "source": [
    "## **Questão 2**"
   ]
  },
  {
   "cell_type": "markdown",
   "metadata": {},
   "source": [
    "Com o intuito de apresentar suas descobertas para os habitantes de Zootopia, Judy precisa descobrir a melhor forma de expor os dados. Ela pensou em mostrá-los em um mapa interativo, entretanto não sabe fazer isso e precisa da sua ajuda para criar esse mapa."
   ]
  },
  {
   "cell_type": "markdown",
   "metadata": {},
   "source": [
    "### **a)** Utilizando Geopandas, busque métodos para produzir um mapa com todos os indices de qualidade de vida disponíveis no dataframe trabalhado."
   ]
  },
  {
   "cell_type": "markdown",
   "metadata": {},
   "source": [
    "Dica: Utilize gradientes de cores e busque por arquivos .shp para criar seu mapa, caso não conheça, pesquise sobre."
   ]
  },
  {
   "cell_type": "code",
   "execution_count": null,
   "metadata": {},
   "outputs": [],
   "source": []
  }
 ],
 "metadata": {
  "kernelspec": {
   "display_name": "base",
   "language": "python",
   "name": "python3"
  },
  "language_info": {
   "codemirror_mode": {
    "name": "ipython",
    "version": 3
   },
   "file_extension": ".py",
   "mimetype": "text/x-python",
   "name": "python",
   "nbconvert_exporter": "python",
   "pygments_lexer": "ipython3",
   "version": "3.12.3"
  }
 },
 "nbformat": 4,
 "nbformat_minor": 2
}
